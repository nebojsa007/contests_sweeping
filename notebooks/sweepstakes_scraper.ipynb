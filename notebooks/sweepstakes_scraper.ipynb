{
 "cells": [
  {
   "cell_type": "code",
   "execution_count": 1,
   "metadata": {},
   "outputs": [],
   "source": [
    "from selenium import webdriver\n",
    "import time\n",
    "from selenium.webdriver.common.keys import Keys\n",
    "import pandas as pd\n",
    "import os\n",
    "from dateutil.parser import parse\n",
    "#Download chromedriver and write its path to chromedriver variable\n",
    "chromedriver = \"/home/nebojsa/chromedriver\"\n",
    "os.environ[\"webdriver.chrome.driver\"] = chromedriver"
   ]
  },
  {
   "cell_type": "code",
   "execution_count": 2,
   "metadata": {},
   "outputs": [],
   "source": [
    "def contest_page(driver):\n",
    "    \n",
    "    y = driver.find_elements_by_tag_name('p')\n",
    "\n",
    "    fields_of_interest = ['Category:', 'Eligibility:', 'Start Date:',\n",
    "                          'Sweepstakes Prizes:', 'Additional Comments:']\n",
    "\n",
    "    next_item = None\n",
    "    resp = {}\n",
    "    for item in y:\n",
    "        if item.text in fields_of_interest:\n",
    "            next_item = item.text.lower().split(':')[0]\n",
    "        elif next_item is not None:\n",
    "            if next_item == 'category':\n",
    "                resp[next_item] = item.text.split(', ')\n",
    "            else:   \n",
    "                resp[next_item] = item.text\n",
    "            next_item = None\n",
    "\n",
    "\n",
    "    return resp"
   ]
  },
  {
   "cell_type": "code",
   "execution_count": 3,
   "metadata": {},
   "outputs": [],
   "source": [
    "def get_sweepstakes():\n",
    "\n",
    "    driver = webdriver.Chrome(chromedriver)\n",
    "    driver.get('https://www.thebalance.com/new-sweepstakes-and-contests-896980')\n",
    "\n",
    "    hits = driver.find_elements_by_tag_name('li')\n",
    "\n",
    "    data = []\n",
    "\n",
    "    for idx, row in enumerate(hits):\n",
    "        s = row.find_elements_by_tag_name('strong')\n",
    "        if len(s) == 0:\n",
    "            continue\n",
    "        else:\n",
    "            driver_temp = webdriver.Chrome(chromedriver)\n",
    "            html = row.get_attribute(\"outerHTML\")\n",
    "            link = html.split('</strong>')[0].split('''<a href=\"''')[1].split('''\"''')[0]\n",
    "            driver_temp.get(link)\n",
    "            resp = contest_page(driver_temp)\n",
    "            driver_temp.quit()\n",
    "            entry_freq = html.split('</strong>')[2].split('<br>')[0]\n",
    "            end_date = html.split('</strong>')[3].split('<br>')[0]\n",
    "            content = html.split('</strong>')[3].split('<br>')[1].split('</li>')[0]\n",
    "            resp.update({'title': s[0].text,\n",
    "                         'entry_freq': entry_freq,\n",
    "                         'end_date': end_date,\n",
    "                         'content': s[0].text})\n",
    "            data.append(resp)\n",
    "\n",
    "    driver.quit()\n",
    "    return data"
   ]
  },
  {
   "cell_type": "code",
   "execution_count": null,
   "metadata": {},
   "outputs": [],
   "source": [
    "data = get_sweepstakes()\n",
    "df = pd.DataFrame(data)\n",
    "file = '/home/nebojsa/Documents/sweepstakes.csv'\n",
    "df.to_csv(file)\n",
    "#df = pd.read_csv('/home/nebojsa/Documents/sweepstakes.csv')"
   ]
  }
 ],
 "metadata": {
  "kernelspec": {
   "display_name": "Python 3",
   "language": "python",
   "name": "python3"
  },
  "language_info": {
   "codemirror_mode": {
    "name": "ipython",
    "version": 3
   },
   "file_extension": ".py",
   "mimetype": "text/x-python",
   "name": "python",
   "nbconvert_exporter": "python",
   "pygments_lexer": "ipython3",
   "version": "3.5.2"
  }
 },
 "nbformat": 4,
 "nbformat_minor": 2
}
